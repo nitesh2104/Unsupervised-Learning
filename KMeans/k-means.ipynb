{
 "cells": [
  {
   "cell_type": "code",
   "execution_count": 1,
   "metadata": {},
   "outputs": [],
   "source": [
    "import os, sys\n",
    "dir2 = os.path.abspath('')\n",
    "dir1 = os.path.dirname(dir2)\n",
    "if not dir1 in sys.path: sys.path.append(dir1)"
   ]
  },
  {
   "cell_type": "code",
   "execution_count": 120,
   "metadata": {},
   "outputs": [],
   "source": [
    "from common import *\n",
    "from sklearn.neural_network import MLPClassifier\n",
    "from sklearn.mixture import GaussianMixture\n",
    "from sklearn.metrics import silhouette_score, homogeneity_score\n",
    "from sklearn.metrics import adjusted_mutual_info_score"
   ]
  },
  {
   "cell_type": "code",
   "execution_count": 3,
   "metadata": {},
   "outputs": [],
   "source": [
    "np.random.seed(0)"
   ]
  },
  {
   "cell_type": "code",
   "execution_count": 4,
   "metadata": {},
   "outputs": [],
   "source": [
    "import warnings; warnings.simplefilter('ignore')"
   ]
  },
  {
   "cell_type": "code",
   "execution_count": 5,
   "metadata": {},
   "outputs": [],
   "source": [
    "# Dataset Phone Price\n",
    "x_train, x_test, y_train, y_test = read_dataset(path_to_file=\"../Data/dataset2/train.csv\")"
   ]
  },
  {
   "cell_type": "code",
   "execution_count": 6,
   "metadata": {},
   "outputs": [],
   "source": [
    "# price_range = df[['income']].to_numpy()\n",
    "y_test[y_test<=1] = 0\n",
    "y_test[y_test>=2] = 1\n",
    "y_train[y_train<=1] = 0\n",
    "y_train[y_train>=2] = 1"
   ]
  },
  {
   "cell_type": "code",
   "execution_count": 7,
   "metadata": {},
   "outputs": [],
   "source": [
    "# preventing information about the distribution of the test set leaking into your model\n",
    "standard_scaler = StandardScaler()\n",
    "x_train_scaled = standard_scaler.fit_transform(x_train)\n",
    "x_test_scaled = standard_scaler.fit_transform(x_test)\n",
    "y_train_scaled = standard_scaler.fit_transform(y_train).astype('int')\n",
    "y_test_scaled = standard_scaler.fit_transform(y_test).astype('int')"
   ]
  },
  {
   "cell_type": "code",
   "execution_count": 8,
   "metadata": {},
   "outputs": [
    {
     "data": {
      "image/png": "[encoded data removed]",
      "text/plain": [
       "<Figure size 432x288 with 1 Axes>"
      ]
     },
     "metadata": {
      "needs_background": "light"
     },
     "output_type": "display_data"
    }
   ],
   "source": [
    "# Elbow Plot to obtain optimal K\n",
    "sse = {}\n",
    "for cluster in np.arange(1, 20):\n",
    "    kmeans = KMeans(n_clusters=cluster, max_iter=1000, random_state=0, n_jobs=-1).fit(x_train)\n",
    "    sse[cluster] = kmeans.inertia_\n",
    "plt.figure()\n",
    "plt.plot(list(sse.keys()), list(sse.values()), color=\"green\", lw=2)\n",
    "plt.title(\"Sum-of-Square-Error vs K\")\n",
    "plt.xlabel(\"K\")\n",
    "plt.ylabel(\"SSE Error\")\n",
    "plt.xticks(np.arange(len(sse)))\n",
    "plt.grid()\n",
    "plt.show()"
   ]
  },
  {
   "cell_type": "code",
   "execution_count": 139,
   "metadata": {},
   "outputs": [
    {
     "data": {
      "text/html": [
       "<div>\n",
       "<style scoped>\n",
       "    .dataframe tbody tr th:only-of-type {\n",
       "        vertical-align: middle;\n",
       "    }\n",
       "\n",
       "    .dataframe tbody tr th {\n",
       "        vertical-align: top;\n",
       "    }\n",
       "\n",
       "    .dataframe thead th {\n",
       "        text-align: right;\n",
       "    }\n",
       "</style>\n",
       "<table border=\"1\" class=\"dataframe\">\n",
       "  <thead>\n",
       "    <tr style=\"text-align: right;\">\n",
       "      <th></th>\n",
       "      <th>battery_power</th>\n",
       "      <th>blue</th>\n",
       "      <th>clock_speed</th>\n",
       "      <th>dual_sim</th>\n",
       "      <th>fc</th>\n",
       "      <th>four_g</th>\n",
       "      <th>int_memory</th>\n",
       "      <th>m_dep</th>\n",
       "      <th>mobile_wt</th>\n",
       "      <th>n_cores</th>\n",
       "      <th>pc</th>\n",
       "      <th>px_height</th>\n",
       "      <th>px_width</th>\n",
       "      <th>ram</th>\n",
       "      <th>sc_h</th>\n",
       "      <th>sc_w</th>\n",
       "      <th>talk_time</th>\n",
       "      <th>three_g</th>\n",
       "      <th>touch_screen</th>\n",
       "      <th>wifi</th>\n",
       "    </tr>\n",
       "  </thead>\n",
       "  <tbody>\n",
       "    <tr>\n",
       "      <th>1520</th>\n",
       "      <td>1883</td>\n",
       "      <td>0</td>\n",
       "      <td>1.6</td>\n",
       "      <td>0</td>\n",
       "      <td>9</td>\n",
       "      <td>0</td>\n",
       "      <td>24</td>\n",
       "      <td>0.1</td>\n",
       "      <td>87</td>\n",
       "      <td>1</td>\n",
       "      <td>16</td>\n",
       "      <td>203</td>\n",
       "      <td>915</td>\n",
       "      <td>3563</td>\n",
       "      <td>17</td>\n",
       "      <td>10</td>\n",
       "      <td>3</td>\n",
       "      <td>0</td>\n",
       "      <td>0</td>\n",
       "      <td>0</td>\n",
       "    </tr>\n",
       "    <tr>\n",
       "      <th>64</th>\n",
       "      <td>702</td>\n",
       "      <td>0</td>\n",
       "      <td>2.6</td>\n",
       "      <td>1</td>\n",
       "      <td>2</td>\n",
       "      <td>1</td>\n",
       "      <td>9</td>\n",
       "      <td>0.7</td>\n",
       "      <td>141</td>\n",
       "      <td>3</td>\n",
       "      <td>3</td>\n",
       "      <td>504</td>\n",
       "      <td>1570</td>\n",
       "      <td>2955</td>\n",
       "      <td>10</td>\n",
       "      <td>4</td>\n",
       "      <td>19</td>\n",
       "      <td>1</td>\n",
       "      <td>0</td>\n",
       "      <td>0</td>\n",
       "    </tr>\n",
       "    <tr>\n",
       "      <th>1431</th>\n",
       "      <td>1283</td>\n",
       "      <td>1</td>\n",
       "      <td>0.7</td>\n",
       "      <td>1</td>\n",
       "      <td>0</td>\n",
       "      <td>1</td>\n",
       "      <td>27</td>\n",
       "      <td>0.2</td>\n",
       "      <td>80</td>\n",
       "      <td>4</td>\n",
       "      <td>6</td>\n",
       "      <td>1135</td>\n",
       "      <td>1923</td>\n",
       "      <td>3957</td>\n",
       "      <td>17</td>\n",
       "      <td>15</td>\n",
       "      <td>6</td>\n",
       "      <td>1</td>\n",
       "      <td>0</td>\n",
       "      <td>0</td>\n",
       "    </tr>\n",
       "    <tr>\n",
       "      <th>926</th>\n",
       "      <td>1496</td>\n",
       "      <td>1</td>\n",
       "      <td>1.9</td>\n",
       "      <td>1</td>\n",
       "      <td>13</td>\n",
       "      <td>0</td>\n",
       "      <td>38</td>\n",
       "      <td>0.1</td>\n",
       "      <td>126</td>\n",
       "      <td>4</td>\n",
       "      <td>14</td>\n",
       "      <td>501</td>\n",
       "      <td>506</td>\n",
       "      <td>1927</td>\n",
       "      <td>17</td>\n",
       "      <td>4</td>\n",
       "      <td>6</td>\n",
       "      <td>0</td>\n",
       "      <td>0</td>\n",
       "      <td>1</td>\n",
       "    </tr>\n",
       "    <tr>\n",
       "      <th>983</th>\n",
       "      <td>1175</td>\n",
       "      <td>1</td>\n",
       "      <td>1.3</td>\n",
       "      <td>0</td>\n",
       "      <td>2</td>\n",
       "      <td>0</td>\n",
       "      <td>19</td>\n",
       "      <td>0.3</td>\n",
       "      <td>164</td>\n",
       "      <td>7</td>\n",
       "      <td>9</td>\n",
       "      <td>873</td>\n",
       "      <td>1394</td>\n",
       "      <td>1944</td>\n",
       "      <td>9</td>\n",
       "      <td>4</td>\n",
       "      <td>9</td>\n",
       "      <td>1</td>\n",
       "      <td>1</td>\n",
       "      <td>0</td>\n",
       "    </tr>\n",
       "    <tr>\n",
       "      <th>...</th>\n",
       "      <td>...</td>\n",
       "      <td>...</td>\n",
       "      <td>...</td>\n",
       "      <td>...</td>\n",
       "      <td>...</td>\n",
       "      <td>...</td>\n",
       "      <td>...</td>\n",
       "      <td>...</td>\n",
       "      <td>...</td>\n",
       "      <td>...</td>\n",
       "      <td>...</td>\n",
       "      <td>...</td>\n",
       "      <td>...</td>\n",
       "      <td>...</td>\n",
       "      <td>...</td>\n",
       "      <td>...</td>\n",
       "      <td>...</td>\n",
       "      <td>...</td>\n",
       "      <td>...</td>\n",
       "      <td>...</td>\n",
       "    </tr>\n",
       "    <tr>\n",
       "      <th>1937</th>\n",
       "      <td>1396</td>\n",
       "      <td>1</td>\n",
       "      <td>0.6</td>\n",
       "      <td>0</td>\n",
       "      <td>0</td>\n",
       "      <td>0</td>\n",
       "      <td>37</td>\n",
       "      <td>0.7</td>\n",
       "      <td>134</td>\n",
       "      <td>4</td>\n",
       "      <td>15</td>\n",
       "      <td>560</td>\n",
       "      <td>1177</td>\n",
       "      <td>2694</td>\n",
       "      <td>18</td>\n",
       "      <td>3</td>\n",
       "      <td>19</td>\n",
       "      <td>0</td>\n",
       "      <td>0</td>\n",
       "      <td>1</td>\n",
       "    </tr>\n",
       "    <tr>\n",
       "      <th>1818</th>\n",
       "      <td>837</td>\n",
       "      <td>0</td>\n",
       "      <td>2.4</td>\n",
       "      <td>1</td>\n",
       "      <td>1</td>\n",
       "      <td>0</td>\n",
       "      <td>51</td>\n",
       "      <td>0.2</td>\n",
       "      <td>104</td>\n",
       "      <td>5</td>\n",
       "      <td>15</td>\n",
       "      <td>638</td>\n",
       "      <td>1831</td>\n",
       "      <td>594</td>\n",
       "      <td>16</td>\n",
       "      <td>6</td>\n",
       "      <td>20</td>\n",
       "      <td>1</td>\n",
       "      <td>0</td>\n",
       "      <td>1</td>\n",
       "    </tr>\n",
       "    <tr>\n",
       "      <th>724</th>\n",
       "      <td>696</td>\n",
       "      <td>0</td>\n",
       "      <td>0.5</td>\n",
       "      <td>0</td>\n",
       "      <td>6</td>\n",
       "      <td>0</td>\n",
       "      <td>51</td>\n",
       "      <td>0.3</td>\n",
       "      <td>197</td>\n",
       "      <td>3</td>\n",
       "      <td>8</td>\n",
       "      <td>649</td>\n",
       "      <td>907</td>\n",
       "      <td>2630</td>\n",
       "      <td>18</td>\n",
       "      <td>8</td>\n",
       "      <td>9</td>\n",
       "      <td>0</td>\n",
       "      <td>0</td>\n",
       "      <td>1</td>\n",
       "    </tr>\n",
       "    <tr>\n",
       "      <th>1160</th>\n",
       "      <td>1159</td>\n",
       "      <td>0</td>\n",
       "      <td>2.7</td>\n",
       "      <td>0</td>\n",
       "      <td>13</td>\n",
       "      <td>1</td>\n",
       "      <td>28</td>\n",
       "      <td>0.2</td>\n",
       "      <td>80</td>\n",
       "      <td>8</td>\n",
       "      <td>18</td>\n",
       "      <td>378</td>\n",
       "      <td>751</td>\n",
       "      <td>2495</td>\n",
       "      <td>10</td>\n",
       "      <td>0</td>\n",
       "      <td>9</td>\n",
       "      <td>1</td>\n",
       "      <td>1</td>\n",
       "      <td>1</td>\n",
       "    </tr>\n",
       "    <tr>\n",
       "      <th>1851</th>\n",
       "      <td>1077</td>\n",
       "      <td>1</td>\n",
       "      <td>2.5</td>\n",
       "      <td>0</td>\n",
       "      <td>13</td>\n",
       "      <td>1</td>\n",
       "      <td>49</td>\n",
       "      <td>0.6</td>\n",
       "      <td>131</td>\n",
       "      <td>4</td>\n",
       "      <td>14</td>\n",
       "      <td>334</td>\n",
       "      <td>1079</td>\n",
       "      <td>3454</td>\n",
       "      <td>17</td>\n",
       "      <td>11</td>\n",
       "      <td>2</td>\n",
       "      <td>1</td>\n",
       "      <td>0</td>\n",
       "      <td>1</td>\n",
       "    </tr>\n",
       "  </tbody>\n",
       "</table>\n",
       "<p>1320 rows × 20 columns</p>\n",
       "</div>"
      ],
      "text/plain": [
       "      battery_power  blue  clock_speed  dual_sim  fc  four_g  int_memory  \\\n",
       "1520           1883     0          1.6         0   9       0          24   \n",
       "64              702     0          2.6         1   2       1           9   \n",
       "1431           1283     1          0.7         1   0       1          27   \n",
       "926            1496     1          1.9         1  13       0          38   \n",
       "983            1175     1          1.3         0   2       0          19   \n",
       "...             ...   ...          ...       ...  ..     ...         ...   \n",
       "1937           1396     1          0.6         0   0       0          37   \n",
       "1818            837     0          2.4         1   1       0          51   \n",
       "724             696     0          0.5         0   6       0          51   \n",
       "1160           1159     0          2.7         0  13       1          28   \n",
       "1851           1077     1          2.5         0  13       1          49   \n",
       "\n",
       "      m_dep  mobile_wt  n_cores  pc  px_height  px_width   ram  sc_h  sc_w  \\\n",
       "1520    0.1         87        1  16        203       915  3563    17    10   \n",
       "64      0.7        141        3   3        504      1570  2955    10     4   \n",
       "1431    0.2         80        4   6       1135      1923  3957    17    15   \n",
       "926     0.1        126        4  14        501       506  1927    17     4   \n",
       "983     0.3        164        7   9        873      1394  1944     9     4   \n",
       "...     ...        ...      ...  ..        ...       ...   ...   ...   ...   \n",
       "1937    0.7        134        4  15        560      1177  2694    18     3   \n",
       "1818    0.2        104        5  15        638      1831   594    16     6   \n",
       "724     0.3        197        3   8        649       907  2630    18     8   \n",
       "1160    0.2         80        8  18        378       751  2495    10     0   \n",
       "1851    0.6        131        4  14        334      1079  3454    17    11   \n",
       "\n",
       "      talk_time  three_g  touch_screen  wifi  \n",
       "1520          3        0             0     0  \n",
       "64           19        1             0     0  \n",
       "1431          6        1             0     0  \n",
       "926           6        0             0     1  \n",
       "983           9        1             1     0  \n",
       "...         ...      ...           ...   ...  \n",
       "1937         19        0             0     1  \n",
       "1818         20        1             0     1  \n",
       "724           9        0             0     1  \n",
       "1160          9        1             1     1  \n",
       "1851          2        1             0     1  \n",
       "\n",
       "[1320 rows x 20 columns]"
      ]
     },
     "execution_count": 139,
     "metadata": {},
     "output_type": "execute_result"
    }
   ],
   "source": [
    "# K = 2 for PhonePrice Dataset\n",
    "K = 2\n",
    "x_train"
   ]
  },
  {
   "cell_type": "code",
   "execution_count": 157,
   "metadata": {},
   "outputs": [
    {
     "name": "stdout",
     "output_type": "stream",
     "text": [
      "KNN Normal Model: Fit Time: 4.4345855712890625e-05\n",
      "KNN Normal Model: Fit Time: 0.002334117889404297\n",
      "Score of Model Tree are (Mean Accuracy of test and train data): 0.9121212121212121\n",
      "              precision    recall  f1-score   support\n",
      "\n",
      "           0       0.92      0.91      0.92       176\n",
      "           1       0.90      0.91      0.91       154\n",
      "\n",
      "    accuracy                           0.91       330\n",
      "   macro avg       0.91      0.91      0.91       330\n",
      "weighted avg       0.91      0.91      0.91       330\n",
      "\n"
     ]
    }
   ],
   "source": [
    "# Clustering without Dimensionality Reduction\n",
    "clf = KMeans(n_clusters=K, n_init=50, max_iter=1000, random_state=0, n_jobs=-1).fit(x_train)\n",
    "start_time = time.time()\n",
    "print(f\"KNN Normal Model: Fit Time: {time.time() - start_time}\")\n",
    "start_time = time.time()\n",
    "y_pred = clf.predict(x_test)\n",
    "print(f\"KNN Normal Model: Fit Time: {time.time() - start_time}\")\n",
    "print(f\"Score of Model Tree are (Mean Accuracy of test and train data): {accuracy_score(y_test, y_pred)}\")\n",
    "print(classification_report(y_test, y_pred))"
   ]
  },
  {
   "cell_type": "code",
   "execution_count": 11,
   "metadata": {},
   "outputs": [
    {
     "name": "stdout",
     "output_type": "stream",
     "text": [
      "K=2, Silhouette Score: 0.35982591486554766\n",
      "K=2, Inertia: 732935561.730327\n",
      "K=2, Adjusted Mutual Info (AMI) Score: 0.3834920797885445\n"
     ]
    }
   ],
   "source": [
    "# Print Silhouette, Inertia and AMI for best K\n",
    "k = KMeans(n_clusters=K, max_iter=1000, random_state=0, n_jobs=-1).fit(x_train)\n",
    "ss = silhouette_score(x_train, y_train, metric='euclidean', sample_size=None, random_state=0)\n",
    "print(f\"K=2, Silhouette Score: {ss}\")\n",
    "print(f\"K=2, Inertia: {k.inertia_}\")\n",
    "print(f\"K=2, Adjusted Mutual Info (AMI) Score: {adjusted_mutual_info_score(y_train['price_range'], k.labels_)}\")"
   ]
  },
  {
   "cell_type": "code",
   "execution_count": 49,
   "metadata": {
    "collapsed": true,
    "jupyter": {
     "outputs_hidden": true
    }
   },
   "outputs": [
    {
     "name": "stdout",
     "output_type": "stream",
     "text": [
      "[0 0 0 ... 0 0 0]\n",
      "[1 1 1 ... 2 2 1]\n",
      "[2 1 1 ... 3 3 2]\n",
      "[3 1 1 ... 0 0 3]\n",
      "[3 0 0 ... 1 1 3]\n",
      "[5 1 3 ... 1 0 5]\n",
      "[1 5 6 ... 5 2 1]\n",
      "[4 2 6 ... 2 0 4]\n",
      "[8 6 3 ... 1 9 1]\n",
      "[2 0 5 ... 3 3 7]\n",
      "[ 0  2  4 ...  3  3 11]\n",
      "[ 0  2  4 ...  3  3 11]\n",
      "[ 9 11  7 ... 10  2  1]\n",
      "[14 12  7 ...  3 10  2]\n",
      "[ 7  8 14 ...  8 12  2]\n",
      "[12 13  9 ...  1  1 11]\n",
      "[10  0 15 ... 16 16 12]\n",
      "[15  2  7 ... 12 17 14]\n"
     ]
    }
   ],
   "source": [
    "# Print Silhouette, Inertia and AMI for range of different K\n",
    "s = {}\n",
    "h = {}\n",
    "for i in range(2, 20):\n",
    "    clf = KMeans(n_clusters=i, n_init=50, max_iter=1000, random_state=0, n_jobs=-1).fit(x_train)\n",
    "    s[i] = silhouette_score(x_train, clf.labels_, metric=\"euclidean\")\n",
    "    h[i] = homogeneity_score(y_train['price_range'].values, clf.labels_)"
   ]
  },
  {
   "cell_type": "code",
   "execution_count": 66,
   "metadata": {},
   "outputs": [],
   "source": [
    "sdf = pd.DataFrame(list(s.values()), columns=['Silhouette'])\n",
    "sdf['Homogeneity'] = pd.DataFrame(list(h.values()))"
   ]
  },
  {
   "cell_type": "code",
   "execution_count": 67,
   "metadata": {},
   "outputs": [
    {
     "data": {
      "image/png": "[encoded data removed]",
      "text/plain": [
       "<Figure size 432x288 with 1 Axes>"
      ]
     },
     "metadata": {
      "needs_background": "light"
     },
     "output_type": "display_data"
    }
   ],
   "source": [
    "plt.figure()\n",
    "plt.title('Silhouette & Homogeneity Scores vs K')\n",
    "plt.plot(sdf, 'o-')\n",
    "plt.xlabel('K')\n",
    "plt.ylabel('Scores')\n",
    "plt.xticks(range(sdf.shape[0]))\n",
    "plt.grid()\n",
    "plt.legend(sdf.columns)\n",
    "plt.show()"
   ]
  },
  {
   "cell_type": "code",
   "execution_count": 114,
   "metadata": {},
   "outputs": [
    {
     "data": {
      "image/png": "[encoded data removed]",
      "text/plain": [
       "<Figure size 432x288 with 1 Axes>"
      ]
     },
     "metadata": {
      "needs_background": "light"
     },
     "output_type": "display_data"
    }
   ],
   "source": [
    "# plt.figure()\n",
    "plt.hist(k.labels_, bins=np.arange(0, K + 1) - 0.5, rwidth=0.5, zorder=2)\n",
    "plt.xticks(np.arange(0, K))\n",
    "plt.xlabel('Cluster label')\n",
    "plt.ylabel('Number of samples')\n",
    "plt.title('Dataset 1: Phone Price')\n",
    "plt.grid()"
   ]
  },
  {
   "cell_type": "code",
   "execution_count": 20,
   "metadata": {
    "collapsed": true,
    "jupyter": {
     "outputs_hidden": true,
     "source_hidden": true
    }
   },
   "outputs": [
    {
     "data": {
      "text/html": [
       "<div>\n",
       "<style scoped>\n",
       "    .dataframe tbody tr th:only-of-type {\n",
       "        vertical-align: middle;\n",
       "    }\n",
       "\n",
       "    .dataframe tbody tr th {\n",
       "        vertical-align: top;\n",
       "    }\n",
       "\n",
       "    .dataframe thead th {\n",
       "        text-align: right;\n",
       "    }\n",
       "</style>\n",
       "<table border=\"1\" class=\"dataframe\">\n",
       "  <thead>\n",
       "    <tr style=\"text-align: right;\">\n",
       "      <th></th>\n",
       "      <th>battery_power</th>\n",
       "      <th>blue</th>\n",
       "      <th>clock_speed</th>\n",
       "      <th>dual_sim</th>\n",
       "      <th>fc</th>\n",
       "      <th>four_g</th>\n",
       "      <th>int_memory</th>\n",
       "      <th>m_dep</th>\n",
       "      <th>mobile_wt</th>\n",
       "      <th>n_cores</th>\n",
       "      <th>pc</th>\n",
       "      <th>px_height</th>\n",
       "      <th>px_width</th>\n",
       "      <th>ram</th>\n",
       "      <th>sc_h</th>\n",
       "      <th>sc_w</th>\n",
       "      <th>talk_time</th>\n",
       "      <th>three_g</th>\n",
       "      <th>touch_screen</th>\n",
       "      <th>wifi</th>\n",
       "    </tr>\n",
       "  </thead>\n",
       "  <tbody>\n",
       "    <tr>\n",
       "      <th>1520</th>\n",
       "      <td>1883</td>\n",
       "      <td>0</td>\n",
       "      <td>1.6</td>\n",
       "      <td>0</td>\n",
       "      <td>9</td>\n",
       "      <td>0</td>\n",
       "      <td>24</td>\n",
       "      <td>0.1</td>\n",
       "      <td>87</td>\n",
       "      <td>1</td>\n",
       "      <td>16</td>\n",
       "      <td>203</td>\n",
       "      <td>915</td>\n",
       "      <td>3563</td>\n",
       "      <td>17</td>\n",
       "      <td>10</td>\n",
       "      <td>3</td>\n",
       "      <td>0</td>\n",
       "      <td>0</td>\n",
       "      <td>0</td>\n",
       "    </tr>\n",
       "    <tr>\n",
       "      <th>64</th>\n",
       "      <td>702</td>\n",
       "      <td>0</td>\n",
       "      <td>2.6</td>\n",
       "      <td>1</td>\n",
       "      <td>2</td>\n",
       "      <td>1</td>\n",
       "      <td>9</td>\n",
       "      <td>0.7</td>\n",
       "      <td>141</td>\n",
       "      <td>3</td>\n",
       "      <td>3</td>\n",
       "      <td>504</td>\n",
       "      <td>1570</td>\n",
       "      <td>2955</td>\n",
       "      <td>10</td>\n",
       "      <td>4</td>\n",
       "      <td>19</td>\n",
       "      <td>1</td>\n",
       "      <td>0</td>\n",
       "      <td>0</td>\n",
       "    </tr>\n",
       "    <tr>\n",
       "      <th>1431</th>\n",
       "      <td>1283</td>\n",
       "      <td>1</td>\n",
       "      <td>0.7</td>\n",
       "      <td>1</td>\n",
       "      <td>0</td>\n",
       "      <td>1</td>\n",
       "      <td>27</td>\n",
       "      <td>0.2</td>\n",
       "      <td>80</td>\n",
       "      <td>4</td>\n",
       "      <td>6</td>\n",
       "      <td>1135</td>\n",
       "      <td>1923</td>\n",
       "      <td>3957</td>\n",
       "      <td>17</td>\n",
       "      <td>15</td>\n",
       "      <td>6</td>\n",
       "      <td>1</td>\n",
       "      <td>0</td>\n",
       "      <td>0</td>\n",
       "    </tr>\n",
       "    <tr>\n",
       "      <th>926</th>\n",
       "      <td>1496</td>\n",
       "      <td>1</td>\n",
       "      <td>1.9</td>\n",
       "      <td>1</td>\n",
       "      <td>13</td>\n",
       "      <td>0</td>\n",
       "      <td>38</td>\n",
       "      <td>0.1</td>\n",
       "      <td>126</td>\n",
       "      <td>4</td>\n",
       "      <td>14</td>\n",
       "      <td>501</td>\n",
       "      <td>506</td>\n",
       "      <td>1927</td>\n",
       "      <td>17</td>\n",
       "      <td>4</td>\n",
       "      <td>6</td>\n",
       "      <td>0</td>\n",
       "      <td>0</td>\n",
       "      <td>1</td>\n",
       "    </tr>\n",
       "    <tr>\n",
       "      <th>983</th>\n",
       "      <td>1175</td>\n",
       "      <td>1</td>\n",
       "      <td>1.3</td>\n",
       "      <td>0</td>\n",
       "      <td>2</td>\n",
       "      <td>0</td>\n",
       "      <td>19</td>\n",
       "      <td>0.3</td>\n",
       "      <td>164</td>\n",
       "      <td>7</td>\n",
       "      <td>9</td>\n",
       "      <td>873</td>\n",
       "      <td>1394</td>\n",
       "      <td>1944</td>\n",
       "      <td>9</td>\n",
       "      <td>4</td>\n",
       "      <td>9</td>\n",
       "      <td>1</td>\n",
       "      <td>1</td>\n",
       "      <td>0</td>\n",
       "    </tr>\n",
       "    <tr>\n",
       "      <th>...</th>\n",
       "      <td>...</td>\n",
       "      <td>...</td>\n",
       "      <td>...</td>\n",
       "      <td>...</td>\n",
       "      <td>...</td>\n",
       "      <td>...</td>\n",
       "      <td>...</td>\n",
       "      <td>...</td>\n",
       "      <td>...</td>\n",
       "      <td>...</td>\n",
       "      <td>...</td>\n",
       "      <td>...</td>\n",
       "      <td>...</td>\n",
       "      <td>...</td>\n",
       "      <td>...</td>\n",
       "      <td>...</td>\n",
       "      <td>...</td>\n",
       "      <td>...</td>\n",
       "      <td>...</td>\n",
       "      <td>...</td>\n",
       "    </tr>\n",
       "    <tr>\n",
       "      <th>1937</th>\n",
       "      <td>1396</td>\n",
       "      <td>1</td>\n",
       "      <td>0.6</td>\n",
       "      <td>0</td>\n",
       "      <td>0</td>\n",
       "      <td>0</td>\n",
       "      <td>37</td>\n",
       "      <td>0.7</td>\n",
       "      <td>134</td>\n",
       "      <td>4</td>\n",
       "      <td>15</td>\n",
       "      <td>560</td>\n",
       "      <td>1177</td>\n",
       "      <td>2694</td>\n",
       "      <td>18</td>\n",
       "      <td>3</td>\n",
       "      <td>19</td>\n",
       "      <td>0</td>\n",
       "      <td>0</td>\n",
       "      <td>1</td>\n",
       "    </tr>\n",
       "    <tr>\n",
       "      <th>1818</th>\n",
       "      <td>837</td>\n",
       "      <td>0</td>\n",
       "      <td>2.4</td>\n",
       "      <td>1</td>\n",
       "      <td>1</td>\n",
       "      <td>0</td>\n",
       "      <td>51</td>\n",
       "      <td>0.2</td>\n",
       "      <td>104</td>\n",
       "      <td>5</td>\n",
       "      <td>15</td>\n",
       "      <td>638</td>\n",
       "      <td>1831</td>\n",
       "      <td>594</td>\n",
       "      <td>16</td>\n",
       "      <td>6</td>\n",
       "      <td>20</td>\n",
       "      <td>1</td>\n",
       "      <td>0</td>\n",
       "      <td>1</td>\n",
       "    </tr>\n",
       "    <tr>\n",
       "      <th>724</th>\n",
       "      <td>696</td>\n",
       "      <td>0</td>\n",
       "      <td>0.5</td>\n",
       "      <td>0</td>\n",
       "      <td>6</td>\n",
       "      <td>0</td>\n",
       "      <td>51</td>\n",
       "      <td>0.3</td>\n",
       "      <td>197</td>\n",
       "      <td>3</td>\n",
       "      <td>8</td>\n",
       "      <td>649</td>\n",
       "      <td>907</td>\n",
       "      <td>2630</td>\n",
       "      <td>18</td>\n",
       "      <td>8</td>\n",
       "      <td>9</td>\n",
       "      <td>0</td>\n",
       "      <td>0</td>\n",
       "      <td>1</td>\n",
       "    </tr>\n",
       "    <tr>\n",
       "      <th>1160</th>\n",
       "      <td>1159</td>\n",
       "      <td>0</td>\n",
       "      <td>2.7</td>\n",
       "      <td>0</td>\n",
       "      <td>13</td>\n",
       "      <td>1</td>\n",
       "      <td>28</td>\n",
       "      <td>0.2</td>\n",
       "      <td>80</td>\n",
       "      <td>8</td>\n",
       "      <td>18</td>\n",
       "      <td>378</td>\n",
       "      <td>751</td>\n",
       "      <td>2495</td>\n",
       "      <td>10</td>\n",
       "      <td>0</td>\n",
       "      <td>9</td>\n",
       "      <td>1</td>\n",
       "      <td>1</td>\n",
       "      <td>1</td>\n",
       "    </tr>\n",
       "    <tr>\n",
       "      <th>1851</th>\n",
       "      <td>1077</td>\n",
       "      <td>1</td>\n",
       "      <td>2.5</td>\n",
       "      <td>0</td>\n",
       "      <td>13</td>\n",
       "      <td>1</td>\n",
       "      <td>49</td>\n",
       "      <td>0.6</td>\n",
       "      <td>131</td>\n",
       "      <td>4</td>\n",
       "      <td>14</td>\n",
       "      <td>334</td>\n",
       "      <td>1079</td>\n",
       "      <td>3454</td>\n",
       "      <td>17</td>\n",
       "      <td>11</td>\n",
       "      <td>2</td>\n",
       "      <td>1</td>\n",
       "      <td>0</td>\n",
       "      <td>1</td>\n",
       "    </tr>\n",
       "  </tbody>\n",
       "</table>\n",
       "<p>1320 rows × 20 columns</p>\n",
       "</div>"
      ],
      "text/plain": [
       "      battery_power  blue  clock_speed  dual_sim  fc  four_g  int_memory  \\\n",
       "1520           1883     0          1.6         0   9       0          24   \n",
       "64              702     0          2.6         1   2       1           9   \n",
       "1431           1283     1          0.7         1   0       1          27   \n",
       "926            1496     1          1.9         1  13       0          38   \n",
       "983            1175     1          1.3         0   2       0          19   \n",
       "...             ...   ...          ...       ...  ..     ...         ...   \n",
       "1937           1396     1          0.6         0   0       0          37   \n",
       "1818            837     0          2.4         1   1       0          51   \n",
       "724             696     0          0.5         0   6       0          51   \n",
       "1160           1159     0          2.7         0  13       1          28   \n",
       "1851           1077     1          2.5         0  13       1          49   \n",
       "\n",
       "      m_dep  mobile_wt  n_cores  pc  px_height  px_width   ram  sc_h  sc_w  \\\n",
       "1520    0.1         87        1  16        203       915  3563    17    10   \n",
       "64      0.7        141        3   3        504      1570  2955    10     4   \n",
       "1431    0.2         80        4   6       1135      1923  3957    17    15   \n",
       "926     0.1        126        4  14        501       506  1927    17     4   \n",
       "983     0.3        164        7   9        873      1394  1944     9     4   \n",
       "...     ...        ...      ...  ..        ...       ...   ...   ...   ...   \n",
       "1937    0.7        134        4  15        560      1177  2694    18     3   \n",
       "1818    0.2        104        5  15        638      1831   594    16     6   \n",
       "724     0.3        197        3   8        649       907  2630    18     8   \n",
       "1160    0.2         80        8  18        378       751  2495    10     0   \n",
       "1851    0.6        131        4  14        334      1079  3454    17    11   \n",
       "\n",
       "      talk_time  three_g  touch_screen  wifi  \n",
       "1520          3        0             0     0  \n",
       "64           19        1             0     0  \n",
       "1431          6        1             0     0  \n",
       "926           6        0             0     1  \n",
       "983           9        1             1     0  \n",
       "...         ...      ...           ...   ...  \n",
       "1937         19        0             0     1  \n",
       "1818         20        1             0     1  \n",
       "724           9        0             0     1  \n",
       "1160          9        1             1     1  \n",
       "1851          2        1             0     1  \n",
       "\n",
       "[1320 rows x 20 columns]"
      ]
     },
     "execution_count": 20,
     "metadata": {},
     "output_type": "execute_result"
    }
   ],
   "source": [
    "x_train"
   ]
  },
  {
   "cell_type": "code",
   "execution_count": 14,
   "metadata": {
    "collapsed": true,
    "jupyter": {
     "outputs_hidden": true
    }
   },
   "outputs": [
    {
     "data": {
      "image/png": "[encoded data removed]",
      "text/plain": [
       "<Figure size 432x288 with 1 Axes>"
      ]
     },
     "metadata": {
      "needs_background": "light"
     },
     "output_type": "display_data"
    }
   ],
   "source": [
    "for c in list(x_train.columns):\n",
    "    sns.scatterplot(x_train[c].values, y_train[\"price_range\"].values)"
   ]
  },
  {
   "cell_type": "markdown",
   "metadata": {},
   "source": [
    "### Gaussian Mixture to implement Expectation Maximization"
   ]
  },
  {
   "cell_type": "code",
   "execution_count": 91,
   "metadata": {
    "collapsed": true,
    "jupyter": {
     "outputs_hidden": true
    }
   },
   "outputs": [
    {
     "name": "stdout",
     "output_type": "stream",
     "text": [
      "[1 1 1 ... 1 1 1]\n",
      "[1 0 0 ... 1 0 0]\n",
      "[0 2 2 ... 0 2 2]\n",
      "[1 4 4 ... 1 4 4]\n",
      "[0 3 3 ... 0 3 3]\n",
      "[5 0 0 ... 5 0 0]\n",
      "[5 7 7 ... 5 7 7]\n",
      "[7 0 0 ... 7 0 0]\n",
      "[5 1 1 ... 5 1 1]\n",
      "[ 1 10 10 ...  1 10 10]\n",
      "[9 1 1 ... 9 1 1]\n",
      "[1 4 4 ... 1 4 4]\n",
      "[8 0 0 ... 5 0 0]\n",
      "[5 5 5 ... 5 5 5]\n",
      "[10 10 10 ... 10 10  1]\n",
      "[3 3 3 ... 3 3 3]\n",
      "[11  5  8 ...  3  5  5]\n",
      "[18 18 18 ... 18 18 18]\n"
     ]
    }
   ],
   "source": [
    "s_em = {}\n",
    "h_em = {}\n",
    "l_em = {}\n",
    "for i in range(2, 20):\n",
    "    clf_gm = GaussianMixture(n_components=i, n_init=50, max_iter=100, random_state=0).fit(x_train)\n",
    "    labels = clf_gm.predict(x_train)\n",
    "    print(labels)\n",
    "    s_em[i] = silhouette_score(x_train, labels, metric=\"euclidean\")\n",
    "    h_em[i] = homogeneity_score(y_train['price_range'].values, labels)\n",
    "    l_em[i] = clf_gm.score(x_train)"
   ]
  },
  {
   "cell_type": "code",
   "execution_count": 94,
   "metadata": {},
   "outputs": [],
   "source": [
    "gm_df = pd.DataFrame(list(s_em.values()), columns=['Silhouette'])\n",
    "gm_df['Homogeneity'] = pd.DataFrame(list(h_em.values()))\n",
    "gm_df['Likelihood'] = pd.DataFrame(list(l_em.values()))"
   ]
  },
  {
   "cell_type": "code",
   "execution_count": 100,
   "metadata": {},
   "outputs": [
    {
     "data": {
      "image/png": "[encoded data removed]",
      "text/plain": [
       "<Figure size 432x288 with 1 Axes>"
      ]
     },
     "metadata": {
      "needs_background": "light"
     },
     "output_type": "display_data"
    }
   ],
   "source": [
    "plt.figure()\n",
    "plt.title('EM: Silhouette & Homogeneity Scores vs K')\n",
    "plt.plot(gm_df[['Silhouette', 'Homogeneity']], 'o-')\n",
    "plt.xlabel('K')\n",
    "plt.ylabel('Scores')\n",
    "plt.xticks(range(gm_df.shape[0]))\n",
    "plt.grid()\n",
    "plt.legend(sdf.columns)\n",
    "plt.show()"
   ]
  },
  {
   "cell_type": "code",
   "execution_count": 98,
   "metadata": {},
   "outputs": [
    {
     "data": {
      "image/png": "[encoded data removed]",
      "text/plain": [
       "<Figure size 432x288 with 1 Axes>"
      ]
     },
     "metadata": {
      "needs_background": "light"
     },
     "output_type": "display_data"
    }
   ],
   "source": [
    "plt.figure()\n",
    "plt.title('Likelihood vs K')\n",
    "plt.plot(gm_df[['Likelihood']], 'o-')\n",
    "plt.xlabel('K')\n",
    "plt.ylabel('Scores')\n",
    "plt.xticks(range(gm_df.shape[0]))\n",
    "plt.grid()\n",
    "plt.legend(sdf.columns)\n",
    "plt.show()"
   ]
  },
  {
   "cell_type": "code",
   "execution_count": 177,
   "metadata": {},
   "outputs": [
    {
     "name": "stdout",
     "output_type": "stream",
     "text": [
      "Accuracy Score: 0.896969696969697\n",
      "              precision    recall  f1-score   support\n",
      "\n",
      "           0       0.91      0.90      0.90       176\n",
      "           1       0.88      0.90      0.89       154\n",
      "\n",
      "    accuracy                           0.90       330\n",
      "   macro avg       0.90      0.90      0.90       330\n",
      "weighted avg       0.90      0.90      0.90       330\n",
      "\n"
     ]
    }
   ],
   "source": [
    "# Classification Report\n",
    "gm = GaussianMixture(n_components=2, max_iter=100, random_state=0, n_init=50).fit(x_train)\n",
    "labels = gm.predict(x_test)\n",
    "print(f\"Accuracy Score: {accuracy_score(y_test, labels)}\")\n",
    "print(classification_report(y_test, labels))"
   ]
  },
  {
   "cell_type": "code",
   "execution_count": 115,
   "metadata": {},
   "outputs": [],
   "source": [
    "# MLPClassifier on PhonePrice"
   ]
  },
  {
   "cell_type": "code",
   "execution_count": 189,
   "metadata": {},
   "outputs": [],
   "source": [
    "# Obtain centroids via KMeans\n",
    "clf_k = KMeans(n_clusters=2, n_init=50, max_iter=1000,random_state=0, n_jobs=-1).fit(x_train)\n",
    "df_x_train = pd.DataFrame(clf_k.labels_, columns=['labels'])\n",
    "clf_k_test = KMeans(n_clusters=2, n_init=50, max_iter=1000,random_state=0, n_jobs=-1).fit(x_test)\n",
    "df_x_test = pd.DataFrame(clf_k_test.labels_, columns=['labels'])"
   ]
  },
  {
   "cell_type": "code",
   "execution_count": 190,
   "metadata": {},
   "outputs": [
    {
     "name": "stdout",
     "output_type": "stream",
     "text": [
      "Accuracy Score: 0.9151515151515152\n",
      "              precision    recall  f1-score   support\n",
      "\n",
      "           0       0.91      0.94      0.92       176\n",
      "           1       0.93      0.89      0.91       154\n",
      "\n",
      "    accuracy                           0.92       330\n",
      "   macro avg       0.92      0.91      0.91       330\n",
      "weighted avg       0.92      0.92      0.92       330\n",
      "\n"
     ]
    }
   ],
   "source": [
    "clf_mlp = MLPClassifier()\n",
    "clf_mp = clf_mlp.fit(df_x_train, y_train)\n",
    "y_pred = clf_mlp.predict(df_x_test)\n",
    "print(f\"Accuracy Score: {accuracy_score(y_pred, y_test)}\")\n",
    "print(classification_report(y_test, y_pred))"
   ]
  },
  {
   "cell_type": "code",
   "execution_count": 133,
   "metadata": {},
   "outputs": [],
   "source": [
    "scores = cross_val_score(clf_mlp, df_l, y_train, scoring='f1_weighted', cv=10)"
   ]
  },
  {
   "cell_type": "code",
   "execution_count": 193,
   "metadata": {},
   "outputs": [
    {
     "data": {
      "image/png": "[encoded data removed]",
      "text/plain": [
       "<Figure size 432x288 with 1 Axes>"
      ]
     },
     "metadata": {
      "needs_background": "light"
     },
     "output_type": "display_data"
    }
   ],
   "source": [
    "plt.plot(scores)\n",
    "plt.grid()"
   ]
  },
  {
   "cell_type": "code",
   "execution_count": 182,
   "metadata": {},
   "outputs": [
    {
     "data": {
      "text/plain": [
       "(1320, 1)"
      ]
     },
     "execution_count": 182,
     "metadata": {},
     "output_type": "execute_result"
    }
   ],
   "source": [
    "df_x_train.shape"
   ]
  },
  {
   "cell_type": "code",
   "execution_count": 183,
   "metadata": {},
   "outputs": [
    {
     "data": {
      "text/plain": [
       "(330, 20)"
      ]
     },
     "execution_count": 183,
     "metadata": {},
     "output_type": "execute_result"
    }
   ],
   "source": [
    "x_test.shape"
   ]
  },
  {
   "cell_type": "code",
   "execution_count": null,
   "metadata": {},
   "outputs": [],
   "source": []
  }
 ],
 "metadata": {
  "kernelspec": {
   "display_name": "Python 3",
   "language": "python",
   "name": "python3"
  },
  "language_info": {
   "codemirror_mode": {
    "name": "ipython",
    "version": 3
   },
   "file_extension": ".py",
   "mimetype": "text/x-python",
   "name": "python",
   "nbconvert_exporter": "python",
   "pygments_lexer": "ipython3",
   "version": "3.8.2"
  }
 },
 "nbformat": 4,
 "nbformat_minor": 4
}
