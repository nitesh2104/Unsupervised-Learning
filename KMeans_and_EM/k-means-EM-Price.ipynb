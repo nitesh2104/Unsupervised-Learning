{
 "cells": [
  {
   "cell_type": "code",
   "execution_count": 2,
   "metadata": {},
   "outputs": [],
   "source": [
    "import os, sys\n",
    "dir2 = os.path.abspath('')\n",
    "dir1 = os.path.dirname(dir2)\n",
    "if not dir1 in sys.path: sys.path.append(dir1)"
   ]
  },
  {
   "cell_type": "code",
   "execution_count": 3,
   "metadata": {},
   "outputs": [],
   "source": [
    "from common import *\n",
    "from sklearn.neural_network import MLPClassifier\n",
    "from sklearn.mixture import GaussianMixture\n",
    "from sklearn.metrics import silhouette_score, homogeneity_score\n",
    "from sklearn.metrics import adjusted_mutual_info_score"
   ]
  },
  {
   "cell_type": "code",
   "execution_count": 4,
   "metadata": {},
   "outputs": [],
   "source": [
    "np.random.seed(0)"
   ]
  },
  {
   "cell_type": "code",
   "execution_count": 5,
   "metadata": {},
   "outputs": [],
   "source": [
    "import warnings; warnings.simplefilter('ignore')"
   ]
  },
  {
   "cell_type": "code",
   "execution_count": 6,
   "metadata": {},
   "outputs": [],
   "source": [
    "# Dataset Phone Price\n",
    "x_train, x_test, y_train, y_test = read_dataset(path_to_file=\"../Data/dataset2/train.csv\")"
   ]
  },
  {
   "cell_type": "code",
   "execution_count": 7,
   "metadata": {},
   "outputs": [],
   "source": [
    "# price_range = df[['income']].to_numpy()\n",
    "y_test[y_test<=1] = 0\n",
    "y_test[y_test>=2] = 1\n",
    "y_train[y_train<=1] = 0\n",
    "y_train[y_train>=2] = 1"
   ]
  },
  {
   "cell_type": "code",
   "execution_count": 8,
   "metadata": {},
   "outputs": [],
   "source": [
    "# preventing information about the distribution of the test set leaking into your model\n",
    "standard_scaler = StandardScaler()\n",
    "x_train_scaled = standard_scaler.fit_transform(x_train)\n",
    "x_test_scaled = standard_scaler.fit_transform(x_test)\n",
    "y_train_scaled = standard_scaler.fit_transform(y_train).astype('int')\n",
    "y_test_scaled = standard_scaler.fit_transform(y_test).astype('int')"
   ]
  },
  {
   "cell_type": "code",
   "execution_count": 9,
   "metadata": {},
   "outputs": [
    {
     "data": {
      "image/png": "[encoded data removed]",
      "text/plain": [
       "<Figure size 432x288 with 1 Axes>"
      ]
     },
     "metadata": {
      "needs_background": "light"
     },
     "output_type": "display_data"
    }
   ],
   "source": [
    "# Elbow Plot to obtain optimal K\n",
    "sse = {}\n",
    "for cluster in np.arange(1, 20):\n",
    "    kmeans = KMeans(n_clusters=cluster, max_iter=1000, random_state=0, n_jobs=-1).fit(x_train_scaled)\n",
    "    sse[cluster] = kmeans.inertia_\n",
    "plt.figure()\n",
    "plt.plot(list(sse.keys()), list(sse.values()), color=\"green\", lw=2)\n",
    "plt.title(\"Sum-of-Square-Error vs K\")\n",
    "plt.xlabel(\"K\")\n",
    "plt.ylabel(\"SSE Error\")\n",
    "plt.xticks(np.arange(len(sse)))\n",
    "plt.grid()\n",
    "plt.show()"
   ]
  },
  {
   "cell_type": "code",
   "execution_count": 13,
   "metadata": {},
   "outputs": [
    {
     "data": {
      "text/html": [
       "<div>\n",
       "<style scoped>\n",
       "    .dataframe tbody tr th:only-of-type {\n",
       "        vertical-align: middle;\n",
       "    }\n",
       "\n",
       "    .dataframe tbody tr th {\n",
       "        vertical-align: top;\n",
       "    }\n",
       "\n",
       "    .dataframe thead th {\n",
       "        text-align: right;\n",
       "    }\n",
       "</style>\n",
       "<table border=\"1\" class=\"dataframe\">\n",
       "  <thead>\n",
       "    <tr style=\"text-align: right;\">\n",
       "      <th></th>\n",
       "      <th>battery_power</th>\n",
       "      <th>blue</th>\n",
       "      <th>clock_speed</th>\n",
       "      <th>dual_sim</th>\n",
       "      <th>fc</th>\n",
       "      <th>four_g</th>\n",
       "      <th>int_memory</th>\n",
       "      <th>m_dep</th>\n",
       "      <th>mobile_wt</th>\n",
       "      <th>n_cores</th>\n",
       "      <th>pc</th>\n",
       "      <th>px_height</th>\n",
       "      <th>px_width</th>\n",
       "      <th>ram</th>\n",
       "      <th>sc_h</th>\n",
       "      <th>sc_w</th>\n",
       "      <th>talk_time</th>\n",
       "      <th>three_g</th>\n",
       "      <th>touch_screen</th>\n",
       "      <th>wifi</th>\n",
       "    </tr>\n",
       "  </thead>\n",
       "  <tbody>\n",
       "    <tr>\n",
       "      <th>1520</th>\n",
       "      <td>1883</td>\n",
       "      <td>0</td>\n",
       "      <td>1.6</td>\n",
       "      <td>0</td>\n",
       "      <td>9</td>\n",
       "      <td>0</td>\n",
       "      <td>24</td>\n",
       "      <td>0.1</td>\n",
       "      <td>87</td>\n",
       "      <td>1</td>\n",
       "      <td>16</td>\n",
       "      <td>203</td>\n",
       "      <td>915</td>\n",
       "      <td>3563</td>\n",
       "      <td>17</td>\n",
       "      <td>10</td>\n",
       "      <td>3</td>\n",
       "      <td>0</td>\n",
       "      <td>0</td>\n",
       "      <td>0</td>\n",
       "    </tr>\n",
       "    <tr>\n",
       "      <th>64</th>\n",
       "      <td>702</td>\n",
       "      <td>0</td>\n",
       "      <td>2.6</td>\n",
       "      <td>1</td>\n",
       "      <td>2</td>\n",
       "      <td>1</td>\n",
       "      <td>9</td>\n",
       "      <td>0.7</td>\n",
       "      <td>141</td>\n",
       "      <td>3</td>\n",
       "      <td>3</td>\n",
       "      <td>504</td>\n",
       "      <td>1570</td>\n",
       "      <td>2955</td>\n",
       "      <td>10</td>\n",
       "      <td>4</td>\n",
       "      <td>19</td>\n",
       "      <td>1</td>\n",
       "      <td>0</td>\n",
       "      <td>0</td>\n",
       "    </tr>\n",
       "    <tr>\n",
       "      <th>1431</th>\n",
       "      <td>1283</td>\n",
       "      <td>1</td>\n",
       "      <td>0.7</td>\n",
       "      <td>1</td>\n",
       "      <td>0</td>\n",
       "      <td>1</td>\n",
       "      <td>27</td>\n",
       "      <td>0.2</td>\n",
       "      <td>80</td>\n",
       "      <td>4</td>\n",
       "      <td>6</td>\n",
       "      <td>1135</td>\n",
       "      <td>1923</td>\n",
       "      <td>3957</td>\n",
       "      <td>17</td>\n",
       "      <td>15</td>\n",
       "      <td>6</td>\n",
       "      <td>1</td>\n",
       "      <td>0</td>\n",
       "      <td>0</td>\n",
       "    </tr>\n",
       "    <tr>\n",
       "      <th>926</th>\n",
       "      <td>1496</td>\n",
       "      <td>1</td>\n",
       "      <td>1.9</td>\n",
       "      <td>1</td>\n",
       "      <td>13</td>\n",
       "      <td>0</td>\n",
       "      <td>38</td>\n",
       "      <td>0.1</td>\n",
       "      <td>126</td>\n",
       "      <td>4</td>\n",
       "      <td>14</td>\n",
       "      <td>501</td>\n",
       "      <td>506</td>\n",
       "      <td>1927</td>\n",
       "      <td>17</td>\n",
       "      <td>4</td>\n",
       "      <td>6</td>\n",
       "      <td>0</td>\n",
       "      <td>0</td>\n",
       "      <td>1</td>\n",
       "    </tr>\n",
       "    <tr>\n",
       "      <th>983</th>\n",
       "      <td>1175</td>\n",
       "      <td>1</td>\n",
       "      <td>1.3</td>\n",
       "      <td>0</td>\n",
       "      <td>2</td>\n",
       "      <td>0</td>\n",
       "      <td>19</td>\n",
       "      <td>0.3</td>\n",
       "      <td>164</td>\n",
       "      <td>7</td>\n",
       "      <td>9</td>\n",
       "      <td>873</td>\n",
       "      <td>1394</td>\n",
       "      <td>1944</td>\n",
       "      <td>9</td>\n",
       "      <td>4</td>\n",
       "      <td>9</td>\n",
       "      <td>1</td>\n",
       "      <td>1</td>\n",
       "      <td>0</td>\n",
       "    </tr>\n",
       "  </tbody>\n",
       "</table>\n",
       "</div>"
      ],
      "text/plain": [
       "      battery_power  blue  clock_speed  dual_sim  fc  four_g  int_memory  \\\n",
       "1520           1883     0          1.6         0   9       0          24   \n",
       "64              702     0          2.6         1   2       1           9   \n",
       "1431           1283     1          0.7         1   0       1          27   \n",
       "926            1496     1          1.9         1  13       0          38   \n",
       "983            1175     1          1.3         0   2       0          19   \n",
       "\n",
       "      m_dep  mobile_wt  n_cores  pc  px_height  px_width   ram  sc_h  sc_w  \\\n",
       "1520    0.1         87        1  16        203       915  3563    17    10   \n",
       "64      0.7        141        3   3        504      1570  2955    10     4   \n",
       "1431    0.2         80        4   6       1135      1923  3957    17    15   \n",
       "926     0.1        126        4  14        501       506  1927    17     4   \n",
       "983     0.3        164        7   9        873      1394  1944     9     4   \n",
       "\n",
       "      talk_time  three_g  touch_screen  wifi  \n",
       "1520          3        0             0     0  \n",
       "64           19        1             0     0  \n",
       "1431          6        1             0     0  \n",
       "926           6        0             0     1  \n",
       "983           9        1             1     0  "
      ]
     },
     "execution_count": 13,
     "metadata": {},
     "output_type": "execute_result"
    }
   ],
   "source": [
    "# K = 2 for PhonePrice Dataset\n",
    "K = 2\n",
    "x_train.head()"
   ]
  },
  {
   "cell_type": "code",
   "execution_count": 14,
   "metadata": {},
   "outputs": [
    {
     "name": "stdout",
     "output_type": "stream",
     "text": [
      "KNN Normal Model: Fit Time: 8.702278137207031e-05\n",
      "KNN Normal Model: Fit Time: 0.004087209701538086\n",
      "Score of Model Tree are (Mean Accuracy of test and train data): 0.08787878787878788\n",
      "              precision    recall  f1-score   support\n",
      "\n",
      "           0       0.10      0.09      0.09       176\n",
      "           1       0.08      0.09      0.09       154\n",
      "\n",
      "    accuracy                           0.09       330\n",
      "   macro avg       0.09      0.09      0.09       330\n",
      "weighted avg       0.09      0.09      0.09       330\n",
      "\n"
     ]
    }
   ],
   "source": [
    "# Clustering without Dimensionality Reduction\n",
    "# Also check if the best K provides a good score or not\n",
    "clf = KMeans(n_clusters=K, n_init=50, max_iter=1000, random_state=0, n_jobs=-1).fit(x_train)\n",
    "start_time = time.time()\n",
    "print(f\"KNN Normal Model: Fit Time: {time.time() - start_time}\")\n",
    "start_time = time.time()\n",
    "y_pred = clf.predict(x_test)\n",
    "print(f\"KNN Normal Model: Fit Time: {time.time() - start_time}\")\n",
    "print(f\"Score of Model Tree are (Mean Accuracy of test and train data): {accuracy_score(y_test, y_pred)}\")\n",
    "print(classification_report(y_test, y_pred))"
   ]
  },
  {
   "cell_type": "code",
   "execution_count": 15,
   "metadata": {},
   "outputs": [
    {
     "name": "stdout",
     "output_type": "stream",
     "text": [
      "K=2, Silhouette Score: 0.35982591486554766\n",
      "k=2, Homoegeneity Score: 0.5461979794181078\n",
      "K=2, Inertia: 1151152942.9637692\n",
      "K=2, Adjusted Mutual Info (AMI) Score: 0.5460382393811885\n"
     ]
    }
   ],
   "source": [
    "# Print Silhouette, Inertia and AMI for best K\n",
    "# The K is the same that was found above using elbow plot\n",
    "k = KMeans(n_clusters=K, max_iter=1000, random_state=0, n_jobs=-1).fit(x_train)\n",
    "ss = silhouette_score(x_train, y_train, metric='euclidean', sample_size=None, random_state=0)\n",
    "print(f\"K=2, Silhouette Score: {ss}\")\n",
    "print(f\"k=2, Homoegeneity Score: {homogeneity_score(y_train['price_range'].values, k.labels_)}\")\n",
    "print(f\"K=2, Inertia: {k.inertia_}\")\n",
    "print(f\"K=2, Adjusted Mutual Info (AMI) Score: {adjusted_mutual_info_score(y_train['price_range'], k.labels_)}\")"
   ]
  },
  {
   "cell_type": "code",
   "execution_count": 49,
   "metadata": {},
   "outputs": [
    {
     "name": "stdout",
     "output_type": "stream",
     "text": [
      "[0 0 0 ... 0 0 0]\n",
      "[1 1 1 ... 2 2 1]\n",
      "[2 1 1 ... 3 3 2]\n",
      "[3 1 1 ... 0 0 3]\n",
      "[3 0 0 ... 1 1 3]\n",
      "[5 1 3 ... 1 0 5]\n",
      "[1 5 6 ... 5 2 1]\n",
      "[4 2 6 ... 2 0 4]\n",
      "[8 6 3 ... 1 9 1]\n",
      "[2 0 5 ... 3 3 7]\n",
      "[ 0  2  4 ...  3  3 11]\n",
      "[ 0  2  4 ...  3  3 11]\n",
      "[ 9 11  7 ... 10  2  1]\n",
      "[14 12  7 ...  3 10  2]\n",
      "[ 7  8 14 ...  8 12  2]\n",
      "[12 13  9 ...  1  1 11]\n",
      "[10  0 15 ... 16 16 12]\n",
      "[15  2  7 ... 12 17 14]\n"
     ]
    }
   ],
   "source": [
    "# Print Silhouette, Inertia and AMI for range of different K\n",
    "s = {}\n",
    "h = {}\n",
    "for i in range(2, 20):\n",
    "    clf = KMeans(n_clusters=i, n_init=50, max_iter=1000, random_state=0, n_jobs=-1).fit(x_train)\n",
    "    s[i] = silhouette_score(x_train, clf.labels_, metric=\"euclidean\")\n",
    "    h[i] = homogeneity_score(y_train['price_range'].values, clf.labels_)"
   ]
  },
  {
   "cell_type": "code",
   "execution_count": 66,
   "metadata": {},
   "outputs": [],
   "source": [
    "sdf = pd.DataFrame(list(s.values()), columns=['Silhouette'])\n",
    "sdf['Homogeneity'] = pd.DataFrame(list(h.values()))"
   ]
  },
  {
   "cell_type": "code",
   "execution_count": 214,
   "metadata": {},
   "outputs": [
    {
     "data": {
      "image/png": "[encoded data removed]",
      "text/plain": [
       "<Figure size 432x288 with 1 Axes>"
      ]
     },
     "metadata": {
      "needs_background": "light"
     },
     "output_type": "display_data"
    }
   ],
   "source": [
    "plt.figure()\n",
    "plt.title('Silhouette & Homogeneity Scores vs K')\n",
    "plt.plot(sdf, 'o-')\n",
    "plt.xlabel('K')\n",
    "plt.ylabel('Scores')\n",
    "plt.xticks(range(sdf.shape[0]))\n",
    "plt.grid()\n",
    "plt.legend(sdf.columns)\n",
    "plt.show()"
   ]
  },
  {
   "cell_type": "code",
   "execution_count": 12,
   "metadata": {},
   "outputs": [
    {
     "ename": "NameError",
     "evalue": "name 'k' is not defined",
     "output_type": "error",
     "traceback": [
      "\u001b[0;31m---------------------------------------------------------------------------\u001b[0m",
      "\u001b[0;31mNameError\u001b[0m                                 Traceback (most recent call last)",
      "\u001b[0;32m<ipython-input-12-220b248b0c36>\u001b[0m in \u001b[0;36m<module>\u001b[0;34m\u001b[0m\n\u001b[1;32m      1\u001b[0m \u001b[0;31m# plt.figure()\u001b[0m\u001b[0;34m\u001b[0m\u001b[0;34m\u001b[0m\u001b[0;34m\u001b[0m\u001b[0m\n\u001b[0;32m----> 2\u001b[0;31m \u001b[0mplt\u001b[0m\u001b[0;34m.\u001b[0m\u001b[0mhist\u001b[0m\u001b[0;34m(\u001b[0m\u001b[0mk\u001b[0m\u001b[0;34m.\u001b[0m\u001b[0mlabels_\u001b[0m\u001b[0;34m,\u001b[0m \u001b[0mbins\u001b[0m\u001b[0;34m=\u001b[0m\u001b[0mnp\u001b[0m\u001b[0;34m.\u001b[0m\u001b[0marange\u001b[0m\u001b[0;34m(\u001b[0m\u001b[0;36m0\u001b[0m\u001b[0;34m,\u001b[0m \u001b[0mK\u001b[0m \u001b[0;34m+\u001b[0m \u001b[0;36m1\u001b[0m\u001b[0;34m)\u001b[0m \u001b[0;34m-\u001b[0m \u001b[0;36m0.5\u001b[0m\u001b[0;34m,\u001b[0m \u001b[0mrwidth\u001b[0m\u001b[0;34m=\u001b[0m\u001b[0;36m0.5\u001b[0m\u001b[0;34m,\u001b[0m \u001b[0mzorder\u001b[0m\u001b[0;34m=\u001b[0m\u001b[0;36m2\u001b[0m\u001b[0;34m)\u001b[0m\u001b[0;34m\u001b[0m\u001b[0;34m\u001b[0m\u001b[0m\n\u001b[0m\u001b[1;32m      3\u001b[0m \u001b[0mplt\u001b[0m\u001b[0;34m.\u001b[0m\u001b[0mxticks\u001b[0m\u001b[0;34m(\u001b[0m\u001b[0mnp\u001b[0m\u001b[0;34m.\u001b[0m\u001b[0marange\u001b[0m\u001b[0;34m(\u001b[0m\u001b[0;36m0\u001b[0m\u001b[0;34m,\u001b[0m \u001b[0mK\u001b[0m\u001b[0;34m)\u001b[0m\u001b[0;34m)\u001b[0m\u001b[0;34m\u001b[0m\u001b[0;34m\u001b[0m\u001b[0m\n\u001b[1;32m      4\u001b[0m \u001b[0mplt\u001b[0m\u001b[0;34m.\u001b[0m\u001b[0mxlabel\u001b[0m\u001b[0;34m(\u001b[0m\u001b[0;34m'Cluster label'\u001b[0m\u001b[0;34m)\u001b[0m\u001b[0;34m\u001b[0m\u001b[0;34m\u001b[0m\u001b[0m\n\u001b[1;32m      5\u001b[0m \u001b[0mplt\u001b[0m\u001b[0;34m.\u001b[0m\u001b[0mylabel\u001b[0m\u001b[0;34m(\u001b[0m\u001b[0;34m'Number of samples'\u001b[0m\u001b[0;34m)\u001b[0m\u001b[0;34m\u001b[0m\u001b[0;34m\u001b[0m\u001b[0m\n",
      "\u001b[0;31mNameError\u001b[0m: name 'k' is not defined"
     ]
    }
   ],
   "source": [
    "# plt.figure()\n",
    "plt.hist(k.labels_, bins=np.arange(0, K + 1) - 0.5, rwidth=0.5, zorder=2)\n",
    "plt.xticks(np.arange(0, K))\n",
    "plt.xlabel('Cluster label')\n",
    "plt.ylabel('Number of samples')\n",
    "plt.title('Dataset 1: Phone Price')\n",
    "plt.grid()"
   ]
  },
  {
   "cell_type": "code",
   "execution_count": 20,
   "metadata": {
    "collapsed": true,
    "jupyter": {
     "outputs_hidden": true,
     "source_hidden": true
    }
   },
   "outputs": [
    {
     "data": {
      "text/html": [
       "<div>\n",
       "<style scoped>\n",
       "    .dataframe tbody tr th:only-of-type {\n",
       "        vertical-align: middle;\n",
       "    }\n",
       "\n",
       "    .dataframe tbody tr th {\n",
       "        vertical-align: top;\n",
       "    }\n",
       "\n",
       "    .dataframe thead th {\n",
       "        text-align: right;\n",
       "    }\n",
       "</style>\n",
       "<table border=\"1\" class=\"dataframe\">\n",
       "  <thead>\n",
       "    <tr style=\"text-align: right;\">\n",
       "      <th></th>\n",
       "      <th>battery_power</th>\n",
       "      <th>blue</th>\n",
       "      <th>clock_speed</th>\n",
       "      <th>dual_sim</th>\n",
       "      <th>fc</th>\n",
       "      <th>four_g</th>\n",
       "      <th>int_memory</th>\n",
       "      <th>m_dep</th>\n",
       "      <th>mobile_wt</th>\n",
       "      <th>n_cores</th>\n",
       "      <th>pc</th>\n",
       "      <th>px_height</th>\n",
       "      <th>px_width</th>\n",
       "      <th>ram</th>\n",
       "      <th>sc_h</th>\n",
       "      <th>sc_w</th>\n",
       "      <th>talk_time</th>\n",
       "      <th>three_g</th>\n",
       "      <th>touch_screen</th>\n",
       "      <th>wifi</th>\n",
       "    </tr>\n",
       "  </thead>\n",
       "  <tbody>\n",
       "    <tr>\n",
       "      <th>1520</th>\n",
       "      <td>1883</td>\n",
       "      <td>0</td>\n",
       "      <td>1.6</td>\n",
       "      <td>0</td>\n",
       "      <td>9</td>\n",
       "      <td>0</td>\n",
       "      <td>24</td>\n",
       "      <td>0.1</td>\n",
       "      <td>87</td>\n",
       "      <td>1</td>\n",
       "      <td>16</td>\n",
       "      <td>203</td>\n",
       "      <td>915</td>\n",
       "      <td>3563</td>\n",
       "      <td>17</td>\n",
       "      <td>10</td>\n",
       "      <td>3</td>\n",
       "      <td>0</td>\n",
       "      <td>0</td>\n",
       "      <td>0</td>\n",
       "    </tr>\n",
       "    <tr>\n",
       "      <th>64</th>\n",
       "      <td>702</td>\n",
       "      <td>0</td>\n",
       "      <td>2.6</td>\n",
       "      <td>1</td>\n",
       "      <td>2</td>\n",
       "      <td>1</td>\n",
       "      <td>9</td>\n",
       "      <td>0.7</td>\n",
       "      <td>141</td>\n",
       "      <td>3</td>\n",
       "      <td>3</td>\n",
       "      <td>504</td>\n",
       "      <td>1570</td>\n",
       "      <td>2955</td>\n",
       "      <td>10</td>\n",
       "      <td>4</td>\n",
       "      <td>19</td>\n",
       "      <td>1</td>\n",
       "      <td>0</td>\n",
       "      <td>0</td>\n",
       "    </tr>\n",
       "    <tr>\n",
       "      <th>1431</th>\n",
       "      <td>1283</td>\n",
       "      <td>1</td>\n",
       "      <td>0.7</td>\n",
       "      <td>1</td>\n",
       "      <td>0</td>\n",
       "      <td>1</td>\n",
       "      <td>27</td>\n",
       "      <td>0.2</td>\n",
       "      <td>80</td>\n",
       "      <td>4</td>\n",
       "      <td>6</td>\n",
       "      <td>1135</td>\n",
       "      <td>1923</td>\n",
       "      <td>3957</td>\n",
       "      <td>17</td>\n",
       "      <td>15</td>\n",
       "      <td>6</td>\n",
       "      <td>1</td>\n",
       "      <td>0</td>\n",
       "      <td>0</td>\n",
       "    </tr>\n",
       "    <tr>\n",
       "      <th>926</th>\n",
       "      <td>1496</td>\n",
       "      <td>1</td>\n",
       "      <td>1.9</td>\n",
       "      <td>1</td>\n",
       "      <td>13</td>\n",
       "      <td>0</td>\n",
       "      <td>38</td>\n",
       "      <td>0.1</td>\n",
       "      <td>126</td>\n",
       "      <td>4</td>\n",
       "      <td>14</td>\n",
       "      <td>501</td>\n",
       "      <td>506</td>\n",
       "      <td>1927</td>\n",
       "      <td>17</td>\n",
       "      <td>4</td>\n",
       "      <td>6</td>\n",
       "      <td>0</td>\n",
       "      <td>0</td>\n",
       "      <td>1</td>\n",
       "    </tr>\n",
       "    <tr>\n",
       "      <th>983</th>\n",
       "      <td>1175</td>\n",
       "      <td>1</td>\n",
       "      <td>1.3</td>\n",
       "      <td>0</td>\n",
       "      <td>2</td>\n",
       "      <td>0</td>\n",
       "      <td>19</td>\n",
       "      <td>0.3</td>\n",
       "      <td>164</td>\n",
       "      <td>7</td>\n",
       "      <td>9</td>\n",
       "      <td>873</td>\n",
       "      <td>1394</td>\n",
       "      <td>1944</td>\n",
       "      <td>9</td>\n",
       "      <td>4</td>\n",
       "      <td>9</td>\n",
       "      <td>1</td>\n",
       "      <td>1</td>\n",
       "      <td>0</td>\n",
       "    </tr>\n",
       "    <tr>\n",
       "      <th>...</th>\n",
       "      <td>...</td>\n",
       "      <td>...</td>\n",
       "      <td>...</td>\n",
       "      <td>...</td>\n",
       "      <td>...</td>\n",
       "      <td>...</td>\n",
       "      <td>...</td>\n",
       "      <td>...</td>\n",
       "      <td>...</td>\n",
       "      <td>...</td>\n",
       "      <td>...</td>\n",
       "      <td>...</td>\n",
       "      <td>...</td>\n",
       "      <td>...</td>\n",
       "      <td>...</td>\n",
       "      <td>...</td>\n",
       "      <td>...</td>\n",
       "      <td>...</td>\n",
       "      <td>...</td>\n",
       "      <td>...</td>\n",
       "    </tr>\n",
       "    <tr>\n",
       "      <th>1937</th>\n",
       "      <td>1396</td>\n",
       "      <td>1</td>\n",
       "      <td>0.6</td>\n",
       "      <td>0</td>\n",
       "      <td>0</td>\n",
       "      <td>0</td>\n",
       "      <td>37</td>\n",
       "      <td>0.7</td>\n",
       "      <td>134</td>\n",
       "      <td>4</td>\n",
       "      <td>15</td>\n",
       "      <td>560</td>\n",
       "      <td>1177</td>\n",
       "      <td>2694</td>\n",
       "      <td>18</td>\n",
       "      <td>3</td>\n",
       "      <td>19</td>\n",
       "      <td>0</td>\n",
       "      <td>0</td>\n",
       "      <td>1</td>\n",
       "    </tr>\n",
       "    <tr>\n",
       "      <th>1818</th>\n",
       "      <td>837</td>\n",
       "      <td>0</td>\n",
       "      <td>2.4</td>\n",
       "      <td>1</td>\n",
       "      <td>1</td>\n",
       "      <td>0</td>\n",
       "      <td>51</td>\n",
       "      <td>0.2</td>\n",
       "      <td>104</td>\n",
       "      <td>5</td>\n",
       "      <td>15</td>\n",
       "      <td>638</td>\n",
       "      <td>1831</td>\n",
       "      <td>594</td>\n",
       "      <td>16</td>\n",
       "      <td>6</td>\n",
       "      <td>20</td>\n",
       "      <td>1</td>\n",
       "      <td>0</td>\n",
       "      <td>1</td>\n",
       "    </tr>\n",
       "    <tr>\n",
       "      <th>724</th>\n",
       "      <td>696</td>\n",
       "      <td>0</td>\n",
       "      <td>0.5</td>\n",
       "      <td>0</td>\n",
       "      <td>6</td>\n",
       "      <td>0</td>\n",
       "      <td>51</td>\n",
       "      <td>0.3</td>\n",
       "      <td>197</td>\n",
       "      <td>3</td>\n",
       "      <td>8</td>\n",
       "      <td>649</td>\n",
       "      <td>907</td>\n",
       "      <td>2630</td>\n",
       "      <td>18</td>\n",
       "      <td>8</td>\n",
       "      <td>9</td>\n",
       "      <td>0</td>\n",
       "      <td>0</td>\n",
       "      <td>1</td>\n",
       "    </tr>\n",
       "    <tr>\n",
       "      <th>1160</th>\n",
       "      <td>1159</td>\n",
       "      <td>0</td>\n",
       "      <td>2.7</td>\n",
       "      <td>0</td>\n",
       "      <td>13</td>\n",
       "      <td>1</td>\n",
       "      <td>28</td>\n",
       "      <td>0.2</td>\n",
       "      <td>80</td>\n",
       "      <td>8</td>\n",
       "      <td>18</td>\n",
       "      <td>378</td>\n",
       "      <td>751</td>\n",
       "      <td>2495</td>\n",
       "      <td>10</td>\n",
       "      <td>0</td>\n",
       "      <td>9</td>\n",
       "      <td>1</td>\n",
       "      <td>1</td>\n",
       "      <td>1</td>\n",
       "    </tr>\n",
       "    <tr>\n",
       "      <th>1851</th>\n",
       "      <td>1077</td>\n",
       "      <td>1</td>\n",
       "      <td>2.5</td>\n",
       "      <td>0</td>\n",
       "      <td>13</td>\n",
       "      <td>1</td>\n",
       "      <td>49</td>\n",
       "      <td>0.6</td>\n",
       "      <td>131</td>\n",
       "      <td>4</td>\n",
       "      <td>14</td>\n",
       "      <td>334</td>\n",
       "      <td>1079</td>\n",
       "      <td>3454</td>\n",
       "      <td>17</td>\n",
       "      <td>11</td>\n",
       "      <td>2</td>\n",
       "      <td>1</td>\n",
       "      <td>0</td>\n",
       "      <td>1</td>\n",
       "    </tr>\n",
       "  </tbody>\n",
       "</table>\n",
       "<p>1320 rows × 20 columns</p>\n",
       "</div>"
      ],
      "text/plain": [
       "      battery_power  blue  clock_speed  dual_sim  fc  four_g  int_memory  \\\n",
       "1520           1883     0          1.6         0   9       0          24   \n",
       "64              702     0          2.6         1   2       1           9   \n",
       "1431           1283     1          0.7         1   0       1          27   \n",
       "926            1496     1          1.9         1  13       0          38   \n",
       "983            1175     1          1.3         0   2       0          19   \n",
       "...             ...   ...          ...       ...  ..     ...         ...   \n",
       "1937           1396     1          0.6         0   0       0          37   \n",
       "1818            837     0          2.4         1   1       0          51   \n",
       "724             696     0          0.5         0   6       0          51   \n",
       "1160           1159     0          2.7         0  13       1          28   \n",
       "1851           1077     1          2.5         0  13       1          49   \n",
       "\n",
       "      m_dep  mobile_wt  n_cores  pc  px_height  px_width   ram  sc_h  sc_w  \\\n",
       "1520    0.1         87        1  16        203       915  3563    17    10   \n",
       "64      0.7        141        3   3        504      1570  2955    10     4   \n",
       "1431    0.2         80        4   6       1135      1923  3957    17    15   \n",
       "926     0.1        126        4  14        501       506  1927    17     4   \n",
       "983     0.3        164        7   9        873      1394  1944     9     4   \n",
       "...     ...        ...      ...  ..        ...       ...   ...   ...   ...   \n",
       "1937    0.7        134        4  15        560      1177  2694    18     3   \n",
       "1818    0.2        104        5  15        638      1831   594    16     6   \n",
       "724     0.3        197        3   8        649       907  2630    18     8   \n",
       "1160    0.2         80        8  18        378       751  2495    10     0   \n",
       "1851    0.6        131        4  14        334      1079  3454    17    11   \n",
       "\n",
       "      talk_time  three_g  touch_screen  wifi  \n",
       "1520          3        0             0     0  \n",
       "64           19        1             0     0  \n",
       "1431          6        1             0     0  \n",
       "926           6        0             0     1  \n",
       "983           9        1             1     0  \n",
       "...         ...      ...           ...   ...  \n",
       "1937         19        0             0     1  \n",
       "1818         20        1             0     1  \n",
       "724           9        0             0     1  \n",
       "1160          9        1             1     1  \n",
       "1851          2        1             0     1  \n",
       "\n",
       "[1320 rows x 20 columns]"
      ]
     },
     "execution_count": 20,
     "metadata": {},
     "output_type": "execute_result"
    }
   ],
   "source": [
    "x_train"
   ]
  },
  {
   "cell_type": "code",
   "execution_count": 14,
   "metadata": {
    "collapsed": true,
    "jupyter": {
     "outputs_hidden": true
    }
   },
   "outputs": [
    {
     "data": {
      "image/png": "[encoded data removed]",
      "text/plain": [
       "<Figure size 432x288 with 1 Axes>"
      ]
     },
     "metadata": {
      "needs_background": "light"
     },
     "output_type": "display_data"
    }
   ],
   "source": [
    "for c in list(x_train.columns):\n",
    "    sns.scatterplot(x_train[c].values, y_train[\"price_range\"].values)"
   ]
  },
  {
   "cell_type": "markdown",
   "metadata": {},
   "source": [
    "### Gaussian Mixture to implement Expectation Maximization"
   ]
  },
  {
   "cell_type": "code",
   "execution_count": 91,
   "metadata": {
    "collapsed": true,
    "jupyter": {
     "outputs_hidden": true
    }
   },
   "outputs": [
    {
     "name": "stdout",
     "output_type": "stream",
     "text": [
      "[1 1 1 ... 1 1 1]\n",
      "[1 0 0 ... 1 0 0]\n",
      "[0 2 2 ... 0 2 2]\n",
      "[1 4 4 ... 1 4 4]\n",
      "[0 3 3 ... 0 3 3]\n",
      "[5 0 0 ... 5 0 0]\n",
      "[5 7 7 ... 5 7 7]\n",
      "[7 0 0 ... 7 0 0]\n",
      "[5 1 1 ... 5 1 1]\n",
      "[ 1 10 10 ...  1 10 10]\n",
      "[9 1 1 ... 9 1 1]\n",
      "[1 4 4 ... 1 4 4]\n",
      "[8 0 0 ... 5 0 0]\n",
      "[5 5 5 ... 5 5 5]\n",
      "[10 10 10 ... 10 10  1]\n",
      "[3 3 3 ... 3 3 3]\n",
      "[11  5  8 ...  3  5  5]\n",
      "[18 18 18 ... 18 18 18]\n"
     ]
    }
   ],
   "source": [
    "s_em = {}\n",
    "h_em = {}\n",
    "l_em = {}\n",
    "for i in range(2, 20):\n",
    "    clf_gm = GaussianMixture(n_components=i, n_init=50, max_iter=100, random_state=0).fit(x_train)\n",
    "    labels = clf_gm.predict(x_train)\n",
    "    print(labels)\n",
    "    s_em[i] = silhouette_score(x_train, labels, metric=\"euclidean\")\n",
    "    h_em[i] = homogeneity_score(y_train['price_range'].values, labels)\n",
    "    l_em[i] = clf_gm.score(x_train)"
   ]
  },
  {
   "cell_type": "code",
   "execution_count": 94,
   "metadata": {},
   "outputs": [],
   "source": [
    "gm_df = pd.DataFrame(list(s_em.values()), columns=['Silhouette'])\n",
    "gm_df['Homogeneity'] = pd.DataFrame(list(h_em.values()))\n",
    "gm_df['Likelihood'] = pd.DataFrame(list(l_em.values()))"
   ]
  },
  {
   "cell_type": "code",
   "execution_count": 100,
   "metadata": {},
   "outputs": [
    {
     "data": {
      "image/png": "[encoded data removed]",
      "text/plain": [
       "<Figure size 432x288 with 1 Axes>"
      ]
     },
     "metadata": {
      "needs_background": "light"
     },
     "output_type": "display_data"
    }
   ],
   "source": [
    "plt.figure()\n",
    "plt.title('EM: Silhouette & Homogeneity Scores vs K')\n",
    "plt.plot(gm_df[['Silhouette', 'Homogeneity']], 'o-')\n",
    "plt.xlabel('K')\n",
    "plt.ylabel('Scores')\n",
    "plt.xticks(range(gm_df.shape[0]))\n",
    "plt.grid()\n",
    "plt.legend(sdf.columns)\n",
    "plt.show()"
   ]
  },
  {
   "cell_type": "code",
   "execution_count": 98,
   "metadata": {},
   "outputs": [
    {
     "data": {
      "image/png": "[encoded data removed]",
      "text/plain": [
       "<Figure size 432x288 with 1 Axes>"
      ]
     },
     "metadata": {
      "needs_background": "light"
     },
     "output_type": "display_data"
    }
   ],
   "source": [
    "plt.figure()\n",
    "plt.title('Likelihood vs K')\n",
    "plt.plot(gm_df[['Likelihood']], 'o-')\n",
    "plt.xlabel('K')\n",
    "plt.ylabel('Scores')\n",
    "plt.xticks(range(gm_df.shape[0]))\n",
    "plt.grid()\n",
    "plt.legend(sdf.columns)\n",
    "plt.show()"
   ]
  },
  {
   "cell_type": "code",
   "execution_count": 177,
   "metadata": {},
   "outputs": [
    {
     "name": "stdout",
     "output_type": "stream",
     "text": [
      "Accuracy Score: 0.896969696969697\n",
      "              precision    recall  f1-score   support\n",
      "\n",
      "           0       0.91      0.90      0.90       176\n",
      "           1       0.88      0.90      0.89       154\n",
      "\n",
      "    accuracy                           0.90       330\n",
      "   macro avg       0.90      0.90      0.90       330\n",
      "weighted avg       0.90      0.90      0.90       330\n",
      "\n"
     ]
    }
   ],
   "source": [
    "# Classification Report\n",
    "gm = GaussianMixture(n_components=2, max_iter=100, random_state=0, n_init=50).fit(x_train)\n",
    "labels = gm.predict(x_test)\n",
    "print(f\"Accuracy Score: {accuracy_score(y_test, labels)}\")\n",
    "print(classification_report(y_test, labels))"
   ]
  },
  {
   "cell_type": "code",
   "execution_count": 115,
   "metadata": {},
   "outputs": [],
   "source": [
    "# MLPClassifier on PhonePrice"
   ]
  },
  {
   "cell_type": "code",
   "execution_count": 189,
   "metadata": {},
   "outputs": [],
   "source": [
    "# Obtain centroids via KMeans\n",
    "clf_k = KMeans(n_clusters=2, n_init=50, max_iter=1000,random_state=0, n_jobs=-1).fit(x_train)\n",
    "df_x_train = pd.DataFrame(clf_k.labels_, columns=['labels'])\n",
    "clf_k_test = KMeans(n_clusters=2, n_init=50, max_iter=1000,random_state=0, n_jobs=-1).fit(x_test)\n",
    "df_x_test = pd.DataFrame(clf_k_test.labels_, columns=['labels'])"
   ]
  },
  {
   "cell_type": "code",
   "execution_count": 190,
   "metadata": {},
   "outputs": [
    {
     "name": "stdout",
     "output_type": "stream",
     "text": [
      "Accuracy Score: 0.9151515151515152\n",
      "              precision    recall  f1-score   support\n",
      "\n",
      "           0       0.91      0.94      0.92       176\n",
      "           1       0.93      0.89      0.91       154\n",
      "\n",
      "    accuracy                           0.92       330\n",
      "   macro avg       0.92      0.91      0.91       330\n",
      "weighted avg       0.92      0.92      0.92       330\n",
      "\n"
     ]
    }
   ],
   "source": [
    "clf_mlp = MLPClassifier()\n",
    "clf_mp = clf_mlp.fit(df_x_train, y_train)\n",
    "y_pred = clf_mlp.predict(df_x_test)\n",
    "print(f\"Accuracy Score: {accuracy_score(y_pred, y_test)}\")\n",
    "print(classification_report(y_test, y_pred))"
   ]
  },
  {
   "cell_type": "code",
   "execution_count": 133,
   "metadata": {},
   "outputs": [],
   "source": [
    "scores = cross_val_score(clf_mlp, df_l, y_train, scoring='f1_weighted', cv=10)"
   ]
  },
  {
   "cell_type": "code",
   "execution_count": 193,
   "metadata": {},
   "outputs": [
    {
     "data": {
      "image/png": "[encoded data removed]",
      "text/plain": [
       "<Figure size 432x288 with 1 Axes>"
      ]
     },
     "metadata": {
      "needs_background": "light"
     },
     "output_type": "display_data"
    }
   ],
   "source": [
    "plt.plot(scores)\n",
    "plt.grid()"
   ]
  },
  {
   "cell_type": "code",
   "execution_count": 182,
   "metadata": {},
   "outputs": [
    {
     "data": {
      "text/plain": [
       "(1320, 1)"
      ]
     },
     "execution_count": 182,
     "metadata": {},
     "output_type": "execute_result"
    }
   ],
   "source": [
    "df_x_train.shape"
   ]
  },
  {
   "cell_type": "code",
   "execution_count": 183,
   "metadata": {},
   "outputs": [
    {
     "data": {
      "text/plain": [
       "(330, 20)"
      ]
     },
     "execution_count": 183,
     "metadata": {},
     "output_type": "execute_result"
    }
   ],
   "source": [
    "x_test.shape"
   ]
  },
  {
   "cell_type": "code",
   "execution_count": 212,
   "metadata": {},
   "outputs": [
    {
     "name": "stdout",
     "output_type": "stream",
     "text": [
      "2\n",
      "K=2, Silhouette Score: 0.3998424943631803\n",
      "K=2, Inertia: 1151152942.963769\n",
      "K=2, Adjusted Mutual Info (AMI) Score: 0.5460382393811885\n",
      "3\n",
      "K=3, Silhouette Score: 0.27134472175816354\n",
      "K=3, Inertia: 939775796.5140553\n",
      "K=3, Adjusted Mutual Info (AMI) Score: 0.46879817816750935\n",
      "4\n",
      "K=4, Silhouette Score: 0.24244548624290801\n",
      "K=4, Inertia: 831754499.543396\n",
      "K=4, Adjusted Mutual Info (AMI) Score: 0.42485186551089826\n",
      "5\n",
      "K=5, Silhouette Score: 0.23356851890371494\n",
      "K=5, Inertia: 732935561.730327\n",
      "K=5, Adjusted Mutual Info (AMI) Score: 0.3834920797885445\n",
      "6\n",
      "K=6, Silhouette Score: 0.22456496693787031\n",
      "K=6, Inertia: 666406578.9823794\n",
      "K=6, Adjusted Mutual Info (AMI) Score: 0.3571315431360897\n",
      "7\n",
      "K=7, Silhouette Score: 0.22232612636249863\n",
      "K=7, Inertia: 616128357.6590587\n",
      "K=7, Adjusted Mutual Info (AMI) Score: 0.33714481434072674\n",
      "8\n",
      "K=8, Silhouette Score: 0.22162544703687018\n",
      "K=8, Inertia: 575650864.77078\n",
      "K=8, Adjusted Mutual Info (AMI) Score: 0.31081618635990105\n",
      "9\n",
      "K=9, Silhouette Score: 0.21541061942206283\n",
      "K=9, Inertia: 539221629.9523467\n",
      "K=9, Adjusted Mutual Info (AMI) Score: 0.3583618529800617\n",
      "10\n",
      "K=10, Silhouette Score: 0.21927794415050333\n",
      "K=10, Inertia: 504077461.69880927\n",
      "K=10, Adjusted Mutual Info (AMI) Score: 0.344838975321534\n",
      "11\n",
      "K=11, Silhouette Score: 0.22244917802893305\n",
      "K=11, Inertia: 475978010.2787147\n",
      "K=11, Adjusted Mutual Info (AMI) Score: 0.35055654891446125\n",
      "12\n",
      "K=12, Silhouette Score: 0.22400237705633888\n",
      "K=12, Inertia: 453895232.24802214\n",
      "K=12, Adjusted Mutual Info (AMI) Score: 0.3327080668639508\n",
      "13\n",
      "K=13, Silhouette Score: 0.2273656661616629\n",
      "K=13, Inertia: 428930208.0460405\n",
      "K=13, Adjusted Mutual Info (AMI) Score: 0.3189735279655005\n",
      "14\n",
      "K=14, Silhouette Score: 0.23156059267692564\n",
      "K=14, Inertia: 409488955.96567994\n",
      "K=14, Adjusted Mutual Info (AMI) Score: 0.3116221256567503\n",
      "15\n",
      "K=15, Silhouette Score: 0.22858090623565996\n",
      "K=15, Inertia: 388658289.2253603\n",
      "K=15, Adjusted Mutual Info (AMI) Score: 0.28728101828561176\n",
      "16\n",
      "K=16, Silhouette Score: 0.2282854666624599\n",
      "K=16, Inertia: 372001818.3263565\n",
      "K=16, Adjusted Mutual Info (AMI) Score: 0.2793803345703928\n",
      "17\n",
      "K=17, Silhouette Score: 0.23060849319601134\n",
      "K=17, Inertia: 357401482.40879273\n",
      "K=17, Adjusted Mutual Info (AMI) Score: 0.2873170387091591\n",
      "18\n",
      "K=18, Silhouette Score: 0.2310841860629567\n",
      "K=18, Inertia: 346163505.88814265\n",
      "K=18, Adjusted Mutual Info (AMI) Score: 0.3023925323209084\n",
      "19\n",
      "K=19, Silhouette Score: 0.2252457620508485\n",
      "K=19, Inertia: 334532118.3740203\n",
      "K=19, Adjusted Mutual Info (AMI) Score: 0.2897389950627379\n"
     ]
    }
   ],
   "source": [
    "sss = []\n",
    "for i in range(2, 20):\n",
    "    print(i)\n",
    "    k = KMeans(n_clusters=i, max_iter=1000, random_state=0, n_jobs=-1).fit(x_train)\n",
    "    labels = k.labels_\n",
    "    ss = silhouette_score(x_train, labels)\n",
    "    sss.append(ss)\n",
    "    print(f\"K={i}, Silhouette Score: {ss}\")\n",
    "    print(f\"K={i}, Inertia: {k.inertia_}\")\n",
    "    print(f\"K={i}, Adjusted Mutual Info (AMI) Score: {adjusted_mutual_info_score(y_train['price_range'], k.labels_)}\")"
   ]
  },
  {
   "cell_type": "code",
   "execution_count": 213,
   "metadata": {},
   "outputs": [
    {
     "data": {
      "text/plain": [
       "[<matplotlib.lines.Line2D at 0x7f4ba0d96ca0>]"
      ]
     },
     "execution_count": 213,
     "metadata": {},
     "output_type": "execute_result"
    },
    {
     "data": {
      "image/png": "[encoded data removed]",
      "text/plain": [
       "<Figure size 432x288 with 1 Axes>"
      ]
     },
     "metadata": {
      "needs_background": "light"
     },
     "output_type": "display_data"
    }
   ],
   "source": [
    "plt.plot(sss)"
   ]
  },
  {
   "cell_type": "code",
   "execution_count": null,
   "metadata": {},
   "outputs": [],
   "source": []
  }
 ],
 "metadata": {
  "kernelspec": {
   "display_name": "Python 3",
   "language": "python",
   "name": "python3"
  },
  "language_info": {
   "codemirror_mode": {
    "name": "ipython",
    "version": 3
   },
   "file_extension": ".py",
   "mimetype": "text/x-python",
   "name": "python",
   "nbconvert_exporter": "python",
   "pygments_lexer": "ipython3",
   "version": "3.8.2"
  }
 },
 "nbformat": 4,
 "nbformat_minor": 4
}
